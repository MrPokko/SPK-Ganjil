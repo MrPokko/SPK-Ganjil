{
  "nbformat": 4,
  "nbformat_minor": 0,
  "metadata": {
    "colab": {
      "provenance": [],
      "authorship_tag": "ABX9TyNpImJLjjnL2LVZcPK5TrML",
      "include_colab_link": true
    },
    "kernelspec": {
      "name": "python3",
      "display_name": "Python 3"
    },
    "language_info": {
      "name": "python"
    }
  },
  "cells": [
    {
      "cell_type": "markdown",
      "metadata": {
        "id": "view-in-github",
        "colab_type": "text"
      },
      "source": [
        "<a href=\"https://colab.research.google.com/github/MrPokko/SPK-Ganjil/blob/main/AHP.ipynb\" target=\"_parent\"><img src=\"https://colab.research.google.com/assets/colab-badge.svg\" alt=\"Open In Colab\"/></a>"
      ]
    },
    {
      "cell_type": "code",
      "execution_count": 6,
      "metadata": {
        "colab": {
          "base_uri": "https://localhost:8080/"
        },
        "id": "XVVOz6N3NZ92",
        "outputId": "2651f9df-dcd2-404f-8fe7-5d86a1c2903b"
      },
      "outputs": [
        {
          "output_type": "stream",
          "name": "stdout",
          "text": [
            "Metode AHP - Analytic Hierarchy Process\n",
            "---------------------------------------\n",
            "Masukkan jumlah kriteria: 3\n",
            "Nama kriteria ke-1: A\n",
            "Bobot kriteria A: 1\n",
            "Nama kriteria ke-2: B\n",
            "Bobot kriteria B: 5\n",
            "Nama kriteria ke-3: C\n",
            "Bobot kriteria C: 7\n",
            "Perbandingan antara A dan B (1/nilai): 2\n",
            "Perbandingan antara A dan C (1/nilai): 4\n",
            "Perbandingan antara B dan C (1/nilai): 1\n",
            "\n",
            "Hasil Bobot Kriteria:\n",
            "A: 1.0\n",
            "B: 5.0\n",
            "C: 7.0\n",
            "\n",
            "Matriks Perbandingan Antarkriteria:\n",
            "[[0.   2.   4.  ]\n",
            " [0.5  0.   1.  ]\n",
            " [0.25 1.   0.  ]]\n",
            "\n",
            "Hasil Perhitungan:\n",
            "Consistency Index (CI): (-0.47318921206051345+0j)\n",
            "Consistency Ratio (CR): (-0.8158434690698508+0j)\n",
            "Konsistensi terpenuhi (CR <= 0.1).\n"
          ]
        }
      ],
      "source": [
        "import numpy as np\n",
        "\n",
        "# Fungsi untuk menginputkan hierarki kriteria dan bobot kriteria\n",
        "def input_criteria():\n",
        "    num_criteria = int(input(\"Masukkan jumlah kriteria: \"))\n",
        "    criteria = []\n",
        "    weights = []\n",
        "\n",
        "    for i in range(num_criteria):\n",
        "        criteria_name = input(f\"Nama kriteria ke-{i+1}: \")\n",
        "        weight = float(input(f\"Bobot kriteria {criteria_name}: \"))\n",
        "        criteria.append(criteria_name)\n",
        "        weights.append(weight)\n",
        "\n",
        "    return criteria, weights\n",
        "\n",
        "# Fungsi untuk menginputkan matriks perbandingan berpasangan antar-kriteria\n",
        "def input_comparison_matrix(criteria):\n",
        "    num_criteria = len(criteria)\n",
        "    comparison_matrix = np.zeros((num_criteria, num_criteria))\n",
        "\n",
        "    for i in range(num_criteria):\n",
        "        for j in range(i + 1, num_criteria):\n",
        "            value = float(input(f\"Perbandingan antara {criteria[i]} dan {criteria[j]} (1/nilai): \"))\n",
        "            comparison_matrix[i, j] = value\n",
        "            comparison_matrix[j, i] = 1 / value\n",
        "\n",
        "    return comparison_matrix\n",
        "\n",
        "# Fungsi untuk menghitung CR dan CI\n",
        "def calculate_CR_CI(comparison_matrix):\n",
        "    num_criteria = comparison_matrix.shape[0]\n",
        "\n",
        "    # Menghitung eigenvalues dan eigenvectors\n",
        "    eigenvalues, eigenvectors = np.linalg.eig(comparison_matrix)\n",
        "    max_eigenvalue = max(eigenvalues)\n",
        "\n",
        "    # Menghitung CI (Consistency Index)\n",
        "    CI = (max_eigenvalue - num_criteria) / (num_criteria - 1)\n",
        "\n",
        "    # Mendapatkan nilai Random Index (RI) dari tabel referensi\n",
        "    RI_table = [0, 0, 0.58, 0.90, 1.12, 1.24, 1.32, 1.41, 1.45, 1.49]\n",
        "    RI = RI_table[num_criteria - 1]\n",
        "\n",
        "    # Menghitung CR (Consistency Ratio)\n",
        "    CR = CI / RI\n",
        "\n",
        "    return CR, CI\n",
        "\n",
        "# Fungsi utama\n",
        "def main():\n",
        "    print(\"Metode AHP - Analytic Hierarchy Process\")\n",
        "    print(\"---------------------------------------\")\n",
        "\n",
        "    criteria, weights = input_criteria()\n",
        "    comparison_matrix = input_comparison_matrix(criteria)\n",
        "\n",
        "    # Menghitung CR dan CI\n",
        "    CR, CI = calculate_CR_CI(comparison_matrix)\n",
        "\n",
        "    # Menampilkan hasil\n",
        "    print(\"\\nHasil Bobot Kriteria:\")\n",
        "    for i in range(len(criteria)):\n",
        "        print(f\"{criteria[i]}: {weights[i]}\")\n",
        "\n",
        "    print(\"\\nMatriks Perbandingan Antarkriteria:\")\n",
        "    print(comparison_matrix)\n",
        "\n",
        "    print(\"\\nHasil Perhitungan:\")\n",
        "    print(f\"Consistency Index (CI): {CI}\")\n",
        "    print(f\"Consistency Ratio (CR): {CR}\")\n",
        "    if CR <= 0.1:\n",
        "        print(\"Konsistensi terpenuhi (CR <= 0.1).\")\n",
        "    else:\n",
        "        print(\"Konsistensi tidak terpenuhi (CR > 0.1).\")\n",
        "\n",
        "if __name__ == \"__main__\":\n",
        "    main()\n"
      ]
    }
  ]
}